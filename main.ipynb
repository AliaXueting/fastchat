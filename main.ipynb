{
 "cells": [
  {
   "cell_type": "code",
   "execution_count": 2,
   "metadata": {
    "collapsed": false,
    "execution": {
     "iopub.execute_input": "2023-08-09T06:09:47.785666Z",
     "iopub.status.busy": "2023-08-09T06:09:47.785301Z",
     "iopub.status.idle": "2023-08-09T06:09:47.993046Z",
     "shell.execute_reply": "2023-08-09T06:09:47.992336Z",
     "shell.execute_reply.started": "2023-08-09T06:09:47.785644Z"
    },
    "jupyter": {
     "outputs_hidden": false
    },
    "scrolled": true,
    "tags": []
   },
   "outputs": [
    {
     "name": "stdout",
     "output_type": "stream",
     "text": [
      "products.txt\r\n"
     ]
    }
   ],
   "source": [
    "# 查看当前挂载的数据集目录, 该目录下的变更重启环境后会自动还原\n",
    "# View dataset directory. \n",
    "# This directory will be recovered automatically after resetting environment. \n",
    "!ls /home/aistudio/data"
   ]
  },
  {
   "cell_type": "code",
   "execution_count": 4,
   "metadata": {
    "execution": {
     "iopub.execute_input": "2023-08-09T06:10:43.276433Z",
     "iopub.status.busy": "2023-08-09T06:10:43.276063Z",
     "iopub.status.idle": "2023-08-09T06:10:49.656724Z",
     "shell.execute_reply": "2023-08-09T06:10:49.656023Z",
     "shell.execute_reply.started": "2023-08-09T06:10:43.276411Z"
    },
    "scrolled": true
   },
   "outputs": [
    {
     "name": "stdout",
     "output_type": "stream",
     "text": [
      "Looking in indexes: https://pypi.tuna.tsinghua.edu.cn/simple\r\n",
      "Collecting langchain\r\n",
      "  Downloading https://pypi.tuna.tsinghua.edu.cn/packages/99/b6/f94cd453f69f9f49bb357d5035b7d17fdb213e1212dca560959010886904/langchain-0.0.258-py3-none-any.whl (1.4 MB)\r\n",
      "\u001b[2K     \u001b[90m━━━━━━━━━━━━━━━━━━━━━━━━━━━━━━━━━━━━━━━━\u001b[0m \u001b[32m1.4/1.4 MB\u001b[0m \u001b[31m36.9 MB/s\u001b[0m eta \u001b[36m0:00:00\u001b[0m00:01\u001b[0m\r\n",
      "\u001b[?25hRequirement already satisfied: PyYAML>=5.3 in /opt/conda/envs/python35-paddle120-env/lib/python3.10/site-packages (from langchain) (6.0.1)\r\n",
      "Collecting SQLAlchemy<3,>=1.4 (from langchain)\r\n",
      "  Downloading https://pypi.tuna.tsinghua.edu.cn/packages/3a/78/6bb3889e893e4605107a016e63636f278223b0526cb7927323c244ff877c/SQLAlchemy-2.0.19-cp310-cp310-manylinux_2_17_x86_64.manylinux2014_x86_64.whl (2.7 MB)\r\n",
      "\u001b[2K     \u001b[90m━━━━━━━━━━━━━━━━━━━━━━━━━━━━━━━━━━━━━━━━\u001b[0m \u001b[32m2.7/2.7 MB\u001b[0m \u001b[31m84.6 MB/s\u001b[0m eta \u001b[36m0:00:00\u001b[0m\r\n",
      "\u001b[?25hRequirement already satisfied: aiohttp<4.0.0,>=3.8.3 in /opt/conda/envs/python35-paddle120-env/lib/python3.10/site-packages (from langchain) (3.8.5)\r\n",
      "Requirement already satisfied: async-timeout<5.0.0,>=4.0.0 in /opt/conda/envs/python35-paddle120-env/lib/python3.10/site-packages (from langchain) (4.0.2)\r\n",
      "Collecting dataclasses-json<0.6.0,>=0.5.7 (from langchain)\r\n",
      "  Downloading https://pypi.tuna.tsinghua.edu.cn/packages/97/5f/e7cc90f36152810cab08b6c9c1125e8bcb9d76f8b3018d101b5f877b386c/dataclasses_json-0.5.14-py3-none-any.whl (26 kB)\r\n",
      "Collecting langsmith<0.1.0,>=0.0.11 (from langchain)\r\n",
      "  Downloading https://pypi.tuna.tsinghua.edu.cn/packages/35/5a/0394e665521132bd3a8a0cfa3ffc6569d2627f74c178108a813f4ff27c07/langsmith-0.0.19-py3-none-any.whl (31 kB)\r\n",
      "Collecting numexpr<3.0.0,>=2.8.4 (from langchain)\r\n",
      "  Downloading https://pypi.tuna.tsinghua.edu.cn/packages/57/c7/eb746d20c1a3c85ef6e4743e9e61d1ff8709bea3b28da64100e848c10fdb/numexpr-2.8.5-cp310-cp310-manylinux_2_17_x86_64.manylinux2014_x86_64.whl (383 kB)\r\n",
      "\u001b[2K     \u001b[90m━━━━━━━━━━━━━━━━━━━━━━━━━━━━━━━━━━━━━━\u001b[0m \u001b[32m383.2/383.2 kB\u001b[0m \u001b[31m56.1 MB/s\u001b[0m eta \u001b[36m0:00:00\u001b[0m\r\n",
      "\u001b[?25hRequirement already satisfied: numpy<2,>=1 in /opt/conda/envs/python35-paddle120-env/lib/python3.10/site-packages (from langchain) (1.25.1)\r\n",
      "Collecting openapi-schema-pydantic<2.0,>=1.2 (from langchain)\r\n",
      "  Downloading https://pypi.tuna.tsinghua.edu.cn/packages/a8/e7/22abb5a10733bf8142984201aedf27d4a58f5810ebdfe9679f9876c7bf4d/openapi_schema_pydantic-1.2.4-py3-none-any.whl (90 kB)\r\n",
      "\u001b[2K     \u001b[90m━━━━━━━━━━━━━━━━━━━━━━━━━━━━━━━━━━━━━━━━\u001b[0m \u001b[32m90.0/90.0 kB\u001b[0m \u001b[31m24.9 MB/s\u001b[0m eta \u001b[36m0:00:00\u001b[0m\r\n",
      "\u001b[?25hRequirement already satisfied: pydantic<2,>=1 in /opt/conda/envs/python35-paddle120-env/lib/python3.10/site-packages (from langchain) (1.10.12)\r\n",
      "Requirement already satisfied: requests<3,>=2 in /opt/conda/envs/python35-paddle120-env/lib/python3.10/site-packages (from langchain) (2.31.0)\r\n",
      "Collecting tenacity<9.0.0,>=8.1.0 (from langchain)\r\n",
      "  Downloading https://pypi.tuna.tsinghua.edu.cn/packages/e7/b0/c23bd61e1b32c9b96fbca996c87784e196a812da8d621d8d04851f6c8181/tenacity-8.2.2-py3-none-any.whl (24 kB)\r\n",
      "Requirement already satisfied: attrs>=17.3.0 in /opt/conda/envs/python35-paddle120-env/lib/python3.10/site-packages (from aiohttp<4.0.0,>=3.8.3->langchain) (23.1.0)\r\n",
      "Requirement already satisfied: charset-normalizer<4.0,>=2.0 in /opt/conda/envs/python35-paddle120-env/lib/python3.10/site-packages (from aiohttp<4.0.0,>=3.8.3->langchain) (3.2.0)\r\n",
      "Requirement already satisfied: multidict<7.0,>=4.5 in /opt/conda/envs/python35-paddle120-env/lib/python3.10/site-packages (from aiohttp<4.0.0,>=3.8.3->langchain) (6.0.4)\r\n",
      "Requirement already satisfied: yarl<2.0,>=1.0 in /opt/conda/envs/python35-paddle120-env/lib/python3.10/site-packages (from aiohttp<4.0.0,>=3.8.3->langchain) (1.9.2)\r\n",
      "Requirement already satisfied: frozenlist>=1.1.1 in /opt/conda/envs/python35-paddle120-env/lib/python3.10/site-packages (from aiohttp<4.0.0,>=3.8.3->langchain) (1.4.0)\r\n",
      "Requirement already satisfied: aiosignal>=1.1.2 in /opt/conda/envs/python35-paddle120-env/lib/python3.10/site-packages (from aiohttp<4.0.0,>=3.8.3->langchain) (1.3.1)\r\n",
      "Collecting marshmallow<4.0.0,>=3.18.0 (from dataclasses-json<0.6.0,>=0.5.7->langchain)\r\n",
      "  Downloading https://pypi.tuna.tsinghua.edu.cn/packages/ed/3c/cebfdcad015240014ff08b883d1c0c427f2ba45ae8c6572851b6ef136cad/marshmallow-3.20.1-py3-none-any.whl (49 kB)\r\n",
      "\u001b[2K     \u001b[90m━━━━━━━━━━━━━━━━━━━━━━━━━━━━━━━━━━━━━━━━\u001b[0m \u001b[32m49.4/49.4 kB\u001b[0m \u001b[31m12.8 MB/s\u001b[0m eta \u001b[36m0:00:00\u001b[0m\r\n",
      "\u001b[?25hCollecting typing-inspect<1,>=0.4.0 (from dataclasses-json<0.6.0,>=0.5.7->langchain)\r\n",
      "  Downloading https://pypi.tuna.tsinghua.edu.cn/packages/65/f3/107a22063bf27bdccf2024833d3445f4eea42b2e598abfbd46f6a63b6cb0/typing_inspect-0.9.0-py3-none-any.whl (8.8 kB)\r\n",
      "Requirement already satisfied: typing-extensions>=4.2.0 in /opt/conda/envs/python35-paddle120-env/lib/python3.10/site-packages (from pydantic<2,>=1->langchain) (4.7.1)\r\n",
      "Requirement already satisfied: idna<4,>=2.5 in /opt/conda/envs/python35-paddle120-env/lib/python3.10/site-packages (from requests<3,>=2->langchain) (3.4)\r\n",
      "Requirement already satisfied: urllib3<3,>=1.21.1 in /opt/conda/envs/python35-paddle120-env/lib/python3.10/site-packages (from requests<3,>=2->langchain) (2.0.4)\r\n",
      "Requirement already satisfied: certifi>=2017.4.17 in /opt/conda/envs/python35-paddle120-env/lib/python3.10/site-packages (from requests<3,>=2->langchain) (2023.5.7)\r\n",
      "Collecting greenlet!=0.4.17 (from SQLAlchemy<3,>=1.4->langchain)\r\n",
      "  Downloading https://pypi.tuna.tsinghua.edu.cn/packages/6e/11/a1f1af20b6a1a8069bc75012569d030acb89fd7ef70f888b6af2f85accc6/greenlet-2.0.2-cp310-cp310-manylinux_2_17_x86_64.manylinux2014_x86_64.whl (613 kB)\r\n",
      "\u001b[2K     \u001b[90m━━━━━━━━━━━━━━━━━━━━━━━━━━━━━━━━━━━━━━\u001b[0m \u001b[32m613.7/613.7 kB\u001b[0m \u001b[31m70.7 MB/s\u001b[0m eta \u001b[36m0:00:00\u001b[0m\r\n",
      "\u001b[?25hRequirement already satisfied: packaging>=17.0 in /opt/conda/envs/python35-paddle120-env/lib/python3.10/site-packages (from marshmallow<4.0.0,>=3.18.0->dataclasses-json<0.6.0,>=0.5.7->langchain) (23.1)\r\n",
      "Collecting mypy-extensions>=0.3.0 (from typing-inspect<1,>=0.4.0->dataclasses-json<0.6.0,>=0.5.7->langchain)\r\n",
      "  Downloading https://pypi.tuna.tsinghua.edu.cn/packages/2a/e2/5d3f6ada4297caebe1a2add3b126fe800c96f56dbe5d1988a2cbe0b267aa/mypy_extensions-1.0.0-py3-none-any.whl (4.7 kB)\r\n",
      "Installing collected packages: tenacity, numexpr, mypy-extensions, marshmallow, greenlet, typing-inspect, SQLAlchemy, openapi-schema-pydantic, langsmith, dataclasses-json, langchain\r\n",
      "Successfully installed SQLAlchemy-2.0.19 dataclasses-json-0.5.14 greenlet-2.0.2 langchain-0.0.258 langsmith-0.0.19 marshmallow-3.20.1 mypy-extensions-1.0.0 numexpr-2.8.5 openapi-schema-pydantic-1.2.4 tenacity-8.2.2 typing-inspect-0.9.0\r\n"
     ]
    }
   ],
   "source": [
    "!pip3 install langchain"
   ]
  },
  {
   "cell_type": "code",
   "execution_count": 5,
   "metadata": {
    "execution": {
     "iopub.execute_input": "2023-08-09T06:10:55.699742Z",
     "iopub.status.busy": "2023-08-09T06:10:55.699388Z",
     "iopub.status.idle": "2023-08-09T06:10:57.385472Z",
     "shell.execute_reply": "2023-08-09T06:10:57.384727Z",
     "shell.execute_reply.started": "2023-08-09T06:10:55.699718Z"
    },
    "scrolled": true
   },
   "outputs": [],
   "source": [
    "from langchain.chat_models import ChatOpenAI\r\n",
    "from langchain.document_loaders import TextLoader\r\n",
    "from langchain.embeddings import OpenAIEmbeddings\r\n",
    "from langchain.indexes import VectorstoreIndexCreator\r\n"
   ]
  },
  {
   "cell_type": "code",
   "execution_count": 7,
   "metadata": {
    "execution": {
     "iopub.execute_input": "2023-08-09T06:16:16.650388Z",
     "iopub.status.busy": "2023-08-09T06:16:16.650027Z",
     "iopub.status.idle": "2023-08-09T06:16:16.654159Z",
     "shell.execute_reply": "2023-08-09T06:16:16.653586Z",
     "shell.execute_reply.started": "2023-08-09T06:16:16.650362Z"
    },
    "scrolled": true
   },
   "outputs": [
    {
     "name": "stdout",
     "output_type": "stream",
     "text": [
      "iphone\r\n",
      "这是一个手机\r\n"
     ]
    }
   ],
   "source": [
    "embedding = OpenAIEmbeddings(model=\"text-embedding-ada-002\")\r\n",
    "loader = TextLoader(\"/home/aistudio/data/products.txt\")\r\n",
    "index = VectorstoreIndexCreator(embedding=embedding).from_loaders([loader])\r\n",
    "llm = ChatOpenAI(model=\"gpt-3.5-turbo\")\r\n",
    "\r\n",
    "questions = [\r\n",
    "    \"what is the Product Name\",\r\n",
    "    \"what is the English Description\",\r\n",
    "]\r\n",
    "\r\n",
    "for query in questions:\r\n",
    "    print(\"Query:\", query)\r\n",
    "    print(\"Answer:\", index.query(query, llm=llm))\r\n"
   ]
  },
  {
   "cell_type": "code",
   "execution_count": null,
   "metadata": {
    "scrolled": true
   },
   "outputs": [],
   "source": []
  }
 ],
 "metadata": {
  "kernelspec": {
   "display_name": "Python 3",
   "language": "python",
   "name": "py35-paddle1.2.0"
  },
  "language_info": {
   "codemirror_mode": {
    "name": "ipython",
    "version": 3
   },
   "file_extension": ".py",
   "mimetype": "text/x-python",
   "name": "python",
   "nbconvert_exporter": "python",
   "pygments_lexer": "ipython3",
   "version": "3.10.10"
  }
 },
 "nbformat": 4,
 "nbformat_minor": 4
}
